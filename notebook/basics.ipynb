{
 "cells": [
  {
   "cell_type": "markdown",
   "metadata": {},
   "source": [
    "# Initial ocndition optimization\n",
    "When optimizing the initial conditions of a dynamical system, computing gradients naively can be very expensive. Consider an $N$-body gravitational simulation: the system's state evolves according to Newton's laws, and a loss function $L$ depends on the state at a final time $T$. To adjust initial positions and velocities to minimize $L$, we need $\\nabla L$ with respect to those initial conditions.\n",
    "\n",
    "### Option 1: Backpropagation\n",
    "We could simulate forward, store every intermediate state, and then apply discrete backpropagation. However, storing an entire trajectory (with many time steps) uses huge memory. For long simulations, this is infeasible.\n",
    "\n",
    "### Option 2: Adjoint method\n",
    "Instead of storing the trajectory, the adjoint method derives **co-state variables** (Lagrange multipliers) that can be integrated backward in time to compute gradients. This uses far less memory because we don't keep every intermediate state – we can recompute or integrate on the fly. I.e., the adjoint method tracks how the final loss $L(x(T))$ “flows backward” through the dynamics to influence initial conditions."
   ]
  },
  {
   "cell_type": "markdown",
   "metadata": {},
   "source": [
    "# The ODE\n",
    "Consider a system governed by a second-order ODE (gravity). Let $x(t)\\in \\mathbb{R}^d$ and $p(t)\\in \\mathbb{R}^d$ be the generalized coordinates and the conjugate momenta. The equations of motion (EOMs) are, for $t\\in[0,T]$:\n",
    "$$\n",
    "\\begin{align}\n",
    "\\dot{x}(t) &= p(t) \\\\ \n",
    "\\dot{p}(t) &= f\\!\\big(x(t)\\big) \\\\\n",
    "f(x(t)) &= \\text{force field}\n",
    "\\end{align}\n",
    "$$\n",
    "\n",
    "**Initial conditions:** $x(0) = x_0$ and $p(0) = p_0$. \n",
    "\n",
    "**Terminal loss:** We define a loss function that depends on the state at final time $T$, $L\\big(x(T)\\big)$, which we aim to minimize by choosing appropriate $x_0, p_0$. The dependence on initial conditions is implicit, mediated by the ODE: $L = L(x(T(x_0, p_0)))$.\n",
    "\n",
    "Our goal is to derive an expression for the gradient $\\displaystyle \\frac{\\partial L}{\\partial x_0}$ and $\\displaystyle \\frac{\\partial L}{\\partial p_0}$ using the adjoint method.\n",
    "\n",
    "\n",
    "\n"
   ]
  },
  {
   "cell_type": "markdown",
   "metadata": {},
   "source": [
    "# The adjoint method\n",
    "\n",
    "Imagine your simulation is governed by some differentiable time evolution, such as a differential equation or an update rule over time steps. You want to find how a loss function $L=\\mathcal{L}(x(T))$, typically defined at the final time (e.g., comparing simulated and observed matter distribution), depends on initial parameters (e.g., initial positions/velocities or cosmological parameters). i.e., want to compute how a final loss $\\mathcal{L}(x(T))$ depends on the initial condition $x(0)$, for an ODE:\n",
    "$$\\frac{dx}{dt} = f(x(t), t), \\quad x(0) = x_0$$"
   ]
  },
  {
   "cell_type": "markdown",
   "metadata": {
    "vscode": {
     "languageId": "plaintext"
    }
   },
   "source": [
    "## Setup the augmented Lagrangian\n",
    "We want to minimize the loss $\\mathcal{L}(x(T))$ subject to the ODE. This is **optimization with a constraint**: the system must obey the ODE. So we introduce time-dependent **Lagrange multipliers (adjoint variables)**. These adjoint variables will enforce that $x(t)$ and $p(t)$ follow the ODE while we vary the initial conditions.\n",
    "\n",
    "Let \n",
    "\n",
    "$\\lambda_x(t)\\in \\mathbb{R}^d$ correspond to the constraint $\\dot{x} - p = 0$, and \n",
    "\n",
    "$\\lambda_p(t)\\in \\mathbb{R}^d$ correspond to the constraint  $\\dot{p} - f(x) = 0$. \n",
    "\n",
    "We construct an augmented Lagrangian (or action) over the time interval $[0,T]$ that incorporates the loss and these constraints:\n",
    "\n",
    "$$\n",
    "\\mathcal{L}[x, p, \\lambda_x, \\lambda_p] = L\\big(x(T)\\big) + \\int_{0}^{T} \\Big[\\lambda_x(t)^\\top \\big(\\dot{x}(t) - p(t)\\big) + \\lambda_p(t)^\\top \\big(\\dot{p}(t) - f(x(t))\\big)\\Big] dt.\n",
    "$$\n",
    "\n",
    "Here:\n",
    "- The term $L(x(T))$ is the terminal loss.\n",
    "- **The integral enforces the ODE**: if $(x,p)$ satisfy the dynamics, then $\\dot{x}-p=0$ and $\\dot{p}-f(x)=0$, making those integrand terms zero. If $(x,p)$ deviates, the Lagrange multipliers $\\lambda_x,\\lambda_p$ penalize the deviation. At optimum (when the constraints are satisfied), $\\mathcal{L}$ equals the actual loss $L(x(T))$. We seek stationarity of $\\mathcal{L}$ under variations of $x(t), p(t)$.\n",
    "\n",
    "We now derive the adjoint equations by taking **variations** of the augmented Lagrangian $\\mathcal{L}$. We treat $x(t), p(t), \\lambda_x(t), \\lambda_p(t)$ as **independent time-dependent functions**. Setting the first-order variation $\\delta \\mathcal{L}=0$ will yield:\n",
    "1. The original state equations (from variations in $\\lambda_x, \\lambda_p$).\n",
    "2.\tThe adjoint equations (from variations in $x, p$).\n",
    "3.\tBoundary conditions at $t=0$ and $t=T$ that relate the adjoint variables to gradients of $L$.\n"
   ]
  },
  {
   "cell_type": "markdown",
   "metadata": {
    "vscode": {
     "languageId": "plaintext"
    }
   },
   "source": [
    "## Deriving the Adjoint Equations"
   ]
  },
  {
   "cell_type": "markdown",
   "metadata": {},
   "source": [
    "Taking the variations:\n",
    "$$\n",
    "\\begin{aligned}\n",
    "\\delta \\mathcal{L} \n",
    "= \\delta L(x(T)) \n",
    " + \\delta \\int_0^T & \\left[ \\lambda_x^\\top (\\dot{x} - p) + \\lambda_p^\\top (\\dot{p} - f(x)) \\right] dt \\\\\n",
    "= \\frac{\\partial L}{\\partial x}(x(T))^\\top \\delta x(T) & \\\\\n",
    "& + \\int_0^T \\delta \\lambda_x^\\top (\\dot{x} - p) dt + \\int_0^T \\lambda_x^\\top (\\delta \\dot{x} - \\delta p) dt \\\\\n",
    "& + \\int_0^T \\delta \\lambda_p^\\top (\\dot{p} - f(x)) dt + \\int_0^T \\lambda_p^\\top (\\delta \\dot{p} - \\frac{\\partial f}{\\partial x} \\delta x) dt.\n",
    "\\end{aligned}\n",
    "$$"
   ]
  },
  {
   "cell_type": "markdown",
   "metadata": {},
   "source": [
    "When in doubt, integrate by parts: $\\delta \\dot{x}$ and $\\delta \\dot{p}$:\n",
    "\n",
    "\\begin{aligned}\n",
    "\\int_0^T \\lambda_x^\\top \\delta \\dot{x} \\, dt &= \\left[\\lambda_x^\\top \\delta x \\right]_0^T - \\int_0^T \\dot{\\lambda}_x^\\top \\delta x \\, dt, \\\\\n",
    "\\int_0^T \\lambda_p^\\top \\delta \\dot{p} \\, dt &= \\left[\\lambda_p^\\top \\delta p \\right]_0^T - \\int_0^T \\dot{\\lambda}_p^\\top \\delta p \\, dt.\n",
    "\\end{aligned}\n"
   ]
  },
  {
   "cell_type": "markdown",
   "metadata": {},
   "source": [
    "Taking the variations:\n",
    "$$\n",
    "\\begin{aligned}\n",
    "\\delta \\mathcal{L} &= \\frac{\\partial L}{\\partial x}(x(T))^\\top \\delta x(T) \\quad \\text{\\red{terminal loss}} \\\\\n",
    "&\\quad + \\int_0^T \\delta \\lambda_x^\\top (\\dot{x} - p) \\, dt + \\int_0^T \\delta \\lambda_p^\\top (\\dot{p} - f(x)) \\, dt \\quad \\text{\\red{varying $\\lambda$}} \\\\\n",
    "&\\quad + \\left[\\lambda_x^\\top \\delta x \\right]_0^T - \\int_0^T \\dot{\\lambda}_x^\\top \\delta x \\, dt - \\int_0^T \\lambda_x^\\top \\delta p \\, dt \\quad \\text{\\red{varying $x,p$}} \\\\\n",
    "&\\quad + \\left[\\lambda_p^\\top \\delta p \\right]_0^T - \\int_0^T \\dot{\\lambda}_p^\\top \\delta p \\, dt - \\int_0^T \\lambda_p^\\top \\frac{\\partial f}{\\partial x} \\delta x \\, dt \\quad \\text{\\red{varying $x,p$}}\n",
    "\\end{aligned}\n",
    "$$\n",
    "\n",
    "Collecting terms:\n",
    "$$\n",
    "\\begin{aligned}\n",
    "\\delta \\mathcal{L} &= \\frac{\\partial L}{\\partial x}(x(T))^\\top \\delta x(T) \\quad \\text{\\red{terminal loss}} \\\\\n",
    "&\\quad + \\int_0^T \\delta \\lambda_x^\\top (\\dot{x} - p) \\, dt + \\int_0^T \\delta \\lambda_p^\\top (\\dot{p} - f(x)) \\, dt \\quad \\text{\\red{varying $\\lambda$}} \\\\\n",
    "&\\quad + \\left[\\lambda_x^\\top \\delta x \\right]_0^T - \\int_0^T \\left[\\dot{\\lambda}_x^\\top + \\lambda_p^\\top \\frac{\\partial f}{\\partial x} \\right] \\delta x\\, dt \\quad \\text{\\red{varying $x,p$}} \\\\\n",
    "&\\quad + \\left[\\lambda_p^\\top \\delta p \\right]_0^T - \\int_0^T \\left[\\dot{\\lambda}_p^\\top + \\lambda_x^\\top \\right] \\delta p \\, dt \\quad \\text{\\red{varying $x,p$}}\n",
    "\\end{aligned}\n",
    "$$"
   ]
  },
  {
   "cell_type": "markdown",
   "metadata": {},
   "source": [
    "### Results:\n",
    "Variation in $\\delta \\lambda_x$, $\\delta \\lambda_p$ yields the original dynamics:\n",
    "\n",
    "\\begin{aligned}\n",
    "\\delta \\lambda_x: &\\quad \\dot{x} = p, \\\\\n",
    "\\delta \\lambda_p: &\\quad \\dot{p} = f(x).\n",
    "\\end{aligned}\n",
    "\n",
    "Variation in $\\delta x$, $\\delta p$ gives the adjoint equations:\n",
    "\\begin{aligned}\n",
    "\\dot{\\lambda}_x &= -\\left( \\frac{\\partial f}{\\partial x} \\right)^\\top \\lambda_p, \\\\\n",
    "\\dot{\\lambda}_p &= -\\lambda_x.\n",
    "\\end{aligned}\n",
    "\n",
    "Boundary conditions:\n",
    "\\begin{aligned}\n",
    "\\delta x(T): &\\quad \\frac{\\partial L}{\\partial x}(x(T)) + \\lambda_x(T) = 0, \\quad \\Rightarrow \\quad \\lambda_x(T) = -\\frac{\\partial L}{\\partial x}(x(T)), \\\\\n",
    "\\delta p(T): &\\quad \\lambda_p(T) = 0, \\\\\n",
    "\\delta x(0): &\\quad \\text{free}, \\quad \\text{gives gradient wrt initial } x(0), \\\\\n",
    "\\delta p(0): &\\quad \\text{free}, \\quad \\text{gives gradient wrt initial } p(0).\n",
    "\\end{aligned}"
   ]
  },
  {
   "cell_type": "markdown",
   "metadata": {},
   "source": [
    "### Summary\n",
    "State equations (forward in time):\n",
    "\\begin{aligned}\n",
    "\\dot{x}(t) &= p(t), \\\\\n",
    "\\dot{p}(t) &= f(x(t)).\n",
    "\\end{aligned}\n",
    "\n",
    "Adjoint equations (backward in time):\n",
    "\\begin{aligned}\n",
    "\\dot{\\lambda}_x(t) &= -\\left( \\frac{\\partial f}{\\partial x}(x(t)) \\right)^\\top \\lambda_p(t), \\\\\n",
    "\\dot{\\lambda}_p(t) &= -\\lambda_x(t),\n",
    "\\end{aligned}\n",
    "\n",
    "with terminal conditions:\n",
    "\\begin{aligned}\n",
    "\\lambda_x(T) &= -\\frac{\\partial L}{\\partial x}(x(T)), \\\\\n",
    "\\lambda_p(T) &= 0.\n",
    "\\end{aligned}"
   ]
  },
  {
   "cell_type": "markdown",
   "metadata": {},
   "source": []
  },
  {
   "cell_type": "markdown",
   "metadata": {
    "vscode": {
     "languageId": "plaintext"
    }
   },
   "source": [
    "### Appendix: Variation with respect to $\\lambda_x$ and $\\lambda_p$\n",
    "\n",
    "$$\n",
    "\\mathcal{L}[x, p, \\lambda_x, \\lambda_p] = L\\big(x(T)\\big) + \\int_{0}^{T} \\Big[\\lambda_x(t)^\\top \\big(\\dot{x}(t) - p(t)\\big) + \\lambda_p(t)^\\top \\big(\\dot{p}(t) - f(x(t))\\big)\\Big] dt.\n",
    "$$\n",
    "\n",
    "\n",
    "Variation with respect to $\\lambda_x$ and $\\lambda_p$: This simply reproduces the constraints (the forward ODE). Treating $\\lambda_x,\\lambda_p$ as Lagrange multipliers, we require:\n",
    "- $\\displaystyle \\frac{\\delta \\mathcal{L}}{\\delta \\lambda_x(t)} = 0 \\implies \\dot{x}(t) - p(t) = 0,$\n",
    "- $\\displaystyle \\frac{\\delta \\mathcal{L}}{\\delta \\lambda_p(t)} = 0 \\implies \\dot{p}(t) - f(x(t)) = 0.$\n",
    "\n",
    "These are exactly the original equations of motion, as expected.\n"
   ]
  },
  {
   "cell_type": "code",
   "execution_count": null,
   "metadata": {
    "vscode": {
     "languageId": "plaintext"
    }
   },
   "outputs": [],
   "source": []
  },
  {
   "cell_type": "code",
   "execution_count": null,
   "metadata": {
    "vscode": {
     "languageId": "plaintext"
    }
   },
   "outputs": [],
   "source": []
  },
  {
   "cell_type": "markdown",
   "metadata": {
    "vscode": {
     "languageId": "plaintext"
    }
   },
   "source": [
    "$$\n",
    "\\mathcal{L}[x, p, \\lambda_x, \\lambda_p] = L\\big(x(T)\\big) + \\int_{0}^{T} \\Big[\\lambda_x(t)^\\top \\big(\\dot{x}(t) - p(t)\\big) + \\lambda_p(t)^\\top \\big(\\dot{p}(t) - f(x(t))\\big)\\Big] dt.\n",
    "$$\n",
    "\n",
    "\n",
    "We get two contributions:\n",
    "\t•\tFrom the terminal loss: $L(x(T)) \\Rightarrow \\delta L = \\nabla_x L(x(T))^\\top \\delta x(T)$\n",
    "\t•\tFrom the integral term:\n",
    "\t•\t$\\int_0^T \\lambda_p^\\top (-\\delta f(x)) dt = \\int_0^T -\\lambda_p^\\top \\nabla f(x) \\delta x , dt$\n",
    "\n",
    "But we also need to consider the term $\\lambda_x^\\top \\dot{x}$:\n",
    "\t•\t$\\int_0^T \\lambda_x^\\top \\dot{x} , dt \\Rightarrow -\\int_0^T \\dot{\\lambda}_x^\\top \\delta x , dt + \\left[\\lambda_x^\\top \\delta x\\right]_0^T$\n",
    "\n",
    "So putting all together:\n",
    "\n",
    "$$\n",
    "\\delta \\mathcal{L} = \\nabla_x L(x(T))^\\top \\delta x(T) + \\int_0^T \\left( -\\dot{\\lambda}_x(t) - \\nabla f(x(t))^\\top \\lambda_p(t) \\right)^\\top \\delta x(t) , dt + \\left[\\lambda_x(t)^\\top \\delta x(t)\\right]_0^T\n",
    "$$"
   ]
  },
  {
   "cell_type": "markdown",
   "metadata": {
    "vscode": {
     "languageId": "plaintext"
    }
   },
   "source": [
    "From variation in $x(t)$:\n",
    "$$\n",
    "\\boxed{\\dot{\\lambda}_x(t) = - \\nabla f(x(t))^\\top \\lambda_p(t)}\n",
    "$$\n",
    "\n",
    "From variation in $p(t)$:\n",
    "$$\n",
    "\\boxed{\\dot{\\lambda}_p(t) = - \\lambda_x(t)}\n",
    "$$"
   ]
  },
  {
   "cell_type": "code",
   "execution_count": null,
   "metadata": {
    "vscode": {
     "languageId": "plaintext"
    }
   },
   "outputs": [],
   "source": []
  },
  {
   "cell_type": "markdown",
   "metadata": {},
   "source": [
    "### 2. Variation with respect to $x(t)$ (state variable): \n",
    "The $x$-dependence in $\\mathcal{L}$ comes from two places:\n",
    "- the terminal loss $L(x(T))$, and\n",
    "- the integrand $\\lambda_p(t)^\\top[-f(x(t))]$ (since $-f(x)$ depends on $x$).\n",
    "\n",
    "Let $\\nabla_x L(x(T))$ denote the gradient of the loss w.rt final state $x(T)$. A small variation $\\delta x(t)$ yields:\n",
    "- Terminal contribution (at $t=T$): $\\delta L(x(T)) = \\nabla_x L\\big(x(T)\\big)^\\top ,\\delta x(T)$.\n",
    "- Integral contribution: $\\int_0^T \\lambda_p(t)^\\top \\left[-\\frac{\\partial f(x(t))}{\\partial x} ,\\delta x(t)\\right] dt$. (Here $\\partial f/\\partial x$ is the Jacobian matrix of $f$; its transpose will appear shortly.)\n",
    "\n",
    "There is also $x$ inside $\\dot{p}-f(x)$, but we handle that via integration by parts on the $\\lambda_p \\dot{p}$ term when varying $p$; we will handle $p$-variation separately. The $\\lambda_x(\\dot{x}-p)$ term also has $x$ via $\\dot{x}$; we integrate by parts to transfer the time derivative off $\\delta x$. Performing integration by parts on the $\\lambda_x \\dot{x}$ term:\n",
    "\n",
    "$$\n",
    "\\int_0^T \\lambda_x(t)^\\top \\dot{x}(t),dt = \\Big[\\lambda_x(t)^\\top x(t)\\Big]_0^T - \\int_0^T \\dot{\\lambda}_x(t)^\\top, x(t),dt,,\n",
    "$$\n",
    "\n",
    "so in the variation we get a bulk term involving $-\\dot{\\lambda}_x(t)^\\top \\delta x(t)$ and boundary terms $\\lambda_x(T)^\\top \\delta x(T) - \\lambda_x(0)^\\top \\delta x(0)$.\n",
    "\n",
    "Collecting all terms proportional to $\\delta x(t)$ (and using that $\\delta x(t)$ is arbitrary for $0<t<T$), we obtain the adjoint equation for $\\lambda_x(t)$:\n",
    "\n",
    "$$\n",
    "-\\dot{\\lambda}_x(t) - \\left[\\frac{\\partial f(x(t))}{\\partial x}\\right]^\\top \\lambda_p(t) = 0 \\qquad \\implies \\qquad\n",
    "\\dot{\\lambda}_x(t) = - \\Big(\\frac{\\partial f}{\\partial x}\\big(x(t)\\big)\\Big)^\\top \\lambda_p(t),.\n",
    "$$\n",
    "\n",
    "This is a first-order ODE for the multiplier $\\lambda_x(t)$. It shows that $\\lambda_x(t)$ is driven by the Jacobian of the force field $f$. The minus sign indicates that the adjoint propagates opposite to the direction that a perturbation in $x$ would affect $p$ forward in time."
   ]
  },
  {
   "cell_type": "markdown",
   "metadata": {},
   "source": [
    "### 3. Variation with respect to $p(t)$: \n",
    "The $p$-dependence in $\\mathcal{L}$ appears in:\n",
    "- the term $\\lambda_x^\\top(-p)$ in the integrand,\n",
    "- the $\\lambda_p \\dot{p}$ term (which we integrate by parts),\n",
    "- and possibly in the terminal loss $L(x(T))$ if $L$ depended on $p(T)$ (which we’re assuming it does not, so we ignore any $\\nabla_p L$ term at $T$ for now).\n",
    "\n",
    "Performing integration by parts on $\\int_0^T \\lambda_p^\\top \\dot{p},dt$ gives $\\Big[\\lambda_p(t)^\\top p(t)\\Big]_0^T - \\int_0^T \\dot{\\lambda}_p(t)^\\top p(t),dt$. Variation $\\delta p(t)$ yields:\n",
    "- From $-\\lambda_x^\\top p$: a term $-(\\lambda_x(t))^\\top \\delta p(t)$ in the integrand.\n",
    "- From integration by parts of $\\lambda_p \\dot{p}$: a bulk term $-\\dot{\\lambda}_p(t)^\\top \\delta p(t)$ and boundary terms $\\lambda_p(T)^\\top \\delta p(T) - \\lambda_p(0)^\\top \\delta p(0)$.\n",
    "\n",
    "Setting the bulk term coefficient to zero gives the adjoint equation for $\\lambda_p(t)$:\n",
    "\n",
    "$$\n",
    "-(1)\\lambda_x(t) - \\dot{\\lambda}_p(t) = 0 \\qquad \\implies \\qquad\n",
    "\\dot{\\lambda}_p(t) = -,\\lambda_x(t),.\n",
    "$$\n",
    "\n",
    "(If we had kept the mass $m$ symbolic, this would be $\\dot{\\lambda}_p = -,\\frac{1}{m}\\lambda_x$ because $\\partial(\\frac{p}{m})/\\partial p = \\frac{1}{m}I$. We have taken $m=1$.)\n",
    "\n",
    "This adjoint equation shows that $\\lambda_p(t)$ is directly driven by $-\\lambda_x(t)$. In fact, combining the two adjoint ODEs, one can differentiate $\\dot{\\lambda}_p = -\\lambda_x$ once more and eliminate $\\lambda_x$ to get $\\ddot{\\lambda}_p(t) = -\\dot{\\lambda}_x(t) = \\big(\\partial f/\\partial x\\big)^\\top \\lambda_p(t)$, which is the adjoint system’s second-order form (mirroring the original second-order dynamics). But it’s usually easier to work with the first-order system for $(\\lambda_x, \\lambda_p)$.\n"
   ]
  },
  {
   "cell_type": "markdown",
   "metadata": {},
   "source": [
    "### 4. Summary\n",
    "We have obtained a coupled first-order system for the adjoint variables:\n",
    "$$\n",
    "\\begin{align*}\n",
    "\\dot{\\lambda}_x(t) &= -\\Big(\\frac{\\partial f}{\\partial x}(x(t))\\Big)^\\top \\lambda_p(t) \\\\\n",
    "\\dot{\\lambda}_p(t) &= -\\lambda_x(t) \\\\\n",
    "\\end{align*}\n",
    "$$\n",
    "to be satisfied for $0 < t < T$. These are linear ODEs along the trajectory, since they depend on the known forward solution $x(t)$.\n"
   ]
  },
  {
   "cell_type": "markdown",
   "metadata": {},
   "source": []
  },
  {
   "cell_type": "markdown",
   "metadata": {},
   "source": []
  },
  {
   "cell_type": "markdown",
   "metadata": {},
   "source": []
  },
  {
   "cell_type": "markdown",
   "metadata": {},
   "source": []
  },
  {
   "cell_type": "markdown",
   "metadata": {},
   "source": [
    "The adjoint method allows you to compute:\n",
    "$$\n",
    "\\frac{dL}{d\\theta}\n",
    "$$\n",
    "for some parameter $\\theta$, efficiently without backpropagating through the entire simulation like in naive autodiff (which would be memory-intensive). Instead, the adjoint method solves another differential equation backward in time, called the adjoint equation.\n"
   ]
  },
  {
   "cell_type": "markdown",
   "metadata": {},
   "source": [
    "## Some intuitions\n",
    "\n",
    "We want to minimize the loss:\n",
    "$\\mathcal{L}(x(T))$\n",
    "subject to:\n",
    "$$\\frac{dx}{dt} = f(x(t), t), \\quad x(0) = x_0$$\n",
    "\n",
    "This is an optimization with a constraint: the system must obey the ODE. So we introduce the Lagrange multipliers (the **adjoint** variables) and treat this like a variational problem.\n",
    "\n",
    "Define the **augmented loss** (which is valid only when the dynamics are satisfied):\n",
    "$$\n",
    "\\tilde{\\mathcal{L}} = \\mathcal{L}(x(T)) + \\int_0^T a(t)^\\top \\left( f(x(t), t) - \\frac{dx}{dt} \\right) dt\n",
    "$$"
   ]
  },
  {
   "cell_type": "markdown",
   "metadata": {},
   "source": [
    "## Some math (continuous adjoint)\n",
    "Let’s say your simulation state $x(t)$ evolves via:\n",
    "$$\n",
    "\\frac{dx}{dt} = f(x(t), t; \\theta), \\quad x(0) = x_0(\\theta)\n",
    "$$\n",
    "and your loss function depends on the final state:\n",
    "$$\n",
    "L = \\mathcal{L}(x(T))\n",
    "$$\n",
    "Then the adjoint state $a(t) \\in \\mathbb{R}^n$ is defined by:\n",
    "$$\n",
    "\\frac{da}{dt} = -a^\\top \\frac{\\partial f}{\\partial x}\n",
    "$$\n",
    "with final condition:\n",
    "$$\n",
    "a(T) = \\left.\\frac{\\partial \\mathcal{L}}{\\partial x}\\right|_{x(T)}\n",
    "$$\n",
    "\n",
    "Once you solve for $a(t)$, you can compute gradients with respect to parameters using:\n",
    "$$\n",
    "\\frac{dL}{d\\theta} = \\int_0^T a(t)^\\top \\frac{\\partial f}{\\partial \\theta} \\, dt + \\left.\\frac{\\partial x_0}{\\partial \\theta}^\\top a(0)\\right.\n",
    "$$"
   ]
  },
  {
   "cell_type": "markdown",
   "metadata": {},
   "source": []
  }
 ],
 "metadata": {
  "language_info": {
   "name": "python"
  }
 },
 "nbformat": 4,
 "nbformat_minor": 2
}
